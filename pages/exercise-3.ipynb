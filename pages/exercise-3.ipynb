{
 "cells": [
  {
   "cell_type": "code",
   "execution_count": 1,
   "id": "5538f133",
   "metadata": {},
   "outputs": [],
   "source": [
    "import pandas as pd\n",
    "import numpy as np"
   ]
  },
  {
   "cell_type": "code",
   "execution_count": 2,
   "id": "75990758",
   "metadata": {},
   "outputs": [
    {
     "data": {
      "text/html": [
       "<div>\n",
       "<style scoped>\n",
       "    .dataframe tbody tr th:only-of-type {\n",
       "        vertical-align: middle;\n",
       "    }\n",
       "\n",
       "    .dataframe tbody tr th {\n",
       "        vertical-align: top;\n",
       "    }\n",
       "\n",
       "    .dataframe thead th {\n",
       "        text-align: right;\n",
       "    }\n",
       "</style>\n",
       "<table border=\"1\" class=\"dataframe\">\n",
       "  <thead>\n",
       "    <tr style=\"text-align: right;\">\n",
       "      <th></th>\n",
       "      <th>title</th>\n",
       "      <th>year</th>\n",
       "      <th>name</th>\n",
       "      <th>type</th>\n",
       "      <th>character</th>\n",
       "      <th>n</th>\n",
       "    </tr>\n",
       "  </thead>\n",
       "  <tbody>\n",
       "    <tr>\n",
       "      <th>0</th>\n",
       "      <td>Suuri illusioni</td>\n",
       "      <td>1985</td>\n",
       "      <td>Homo $</td>\n",
       "      <td>actor</td>\n",
       "      <td>Guests</td>\n",
       "      <td>22.0</td>\n",
       "    </tr>\n",
       "    <tr>\n",
       "      <th>1</th>\n",
       "      <td>Gangsta Rap: The Glockumentary</td>\n",
       "      <td>2007</td>\n",
       "      <td>Too $hort</td>\n",
       "      <td>actor</td>\n",
       "      <td>Himself</td>\n",
       "      <td>NaN</td>\n",
       "    </tr>\n",
       "    <tr>\n",
       "      <th>2</th>\n",
       "      <td>Menace II Society</td>\n",
       "      <td>1993</td>\n",
       "      <td>Too $hort</td>\n",
       "      <td>actor</td>\n",
       "      <td>Lew-Loc</td>\n",
       "      <td>27.0</td>\n",
       "    </tr>\n",
       "    <tr>\n",
       "      <th>3</th>\n",
       "      <td>Porndogs: The Adventures of Sadie</td>\n",
       "      <td>2009</td>\n",
       "      <td>Too $hort</td>\n",
       "      <td>actor</td>\n",
       "      <td>Bosco</td>\n",
       "      <td>3.0</td>\n",
       "    </tr>\n",
       "    <tr>\n",
       "      <th>4</th>\n",
       "      <td>Stop Pepper Palmer</td>\n",
       "      <td>2014</td>\n",
       "      <td>Too $hort</td>\n",
       "      <td>actor</td>\n",
       "      <td>Himself</td>\n",
       "      <td>NaN</td>\n",
       "    </tr>\n",
       "  </tbody>\n",
       "</table>\n",
       "</div>"
      ],
      "text/plain": [
       "                               title  year       name   type character     n\n",
       "0                    Suuri illusioni  1985     Homo $  actor    Guests  22.0\n",
       "1     Gangsta Rap: The Glockumentary  2007  Too $hort  actor   Himself   NaN\n",
       "2                  Menace II Society  1993  Too $hort  actor   Lew-Loc  27.0\n",
       "3  Porndogs: The Adventures of Sadie  2009  Too $hort  actor     Bosco   3.0\n",
       "4                 Stop Pepper Palmer  2014  Too $hort  actor   Himself   NaN"
      ]
     },
     "execution_count": 2,
     "metadata": {},
     "output_type": "execute_result"
    }
   ],
   "source": [
    "cast_data=pd.read_csv(\"C:\\\\Users\\\\HP\\\\OneDrive\\\\Desktop\\\\cast.csv\")\n",
    "cast_data.head()"
   ]
  },
  {
   "cell_type": "code",
   "execution_count": 3,
   "id": "3212a851",
   "metadata": {},
   "outputs": [],
   "source": [
    "# Use groupby() to plot the number of \"Hamlet\" films made each decade."
   ]
  },
  {
   "cell_type": "code",
   "execution_count": 4,
   "id": "2f83eb9f",
   "metadata": {},
   "outputs": [
    {
     "name": "stdout",
     "output_type": "stream",
     "text": [
      "type     year\n",
      "actor    1950    604\n",
      "         1951    632\n",
      "         1952    591\n",
      "         1953    631\n",
      "         1954    623\n",
      "         1955    606\n",
      "         1956    611\n",
      "         1957    707\n",
      "         1958    692\n",
      "         1959    678\n",
      "actress  1950    270\n",
      "         1951    272\n",
      "         1952    286\n",
      "         1953    290\n",
      "         1954    298\n",
      "         1955    264\n",
      "         1956    288\n",
      "         1957    283\n",
      "         1958    275\n",
      "         1959    287\n",
      "dtype: int64\n"
     ]
    }
   ],
   "source": [
    "a =cast_data[(cast_data['n']==1.0)]\n",
    "b =a[(a['year']>=1950) & (a['year']<=1959)].groupby(['type','year']).size()\n",
    "print (b)"
   ]
  },
  {
   "cell_type": "code",
   "execution_count": 5,
   "id": "73f8f02f",
   "metadata": {},
   "outputs": [],
   "source": [
    "# In the 1950s decade taken as a whole, how many total roles were available to actors, and how many to actresses, for each \"n\" number 1 through 5?"
   ]
  },
  {
   "cell_type": "code",
   "execution_count": 7,
   "id": "23dc6d4d",
   "metadata": {},
   "outputs": [
    {
     "name": "stdout",
     "output_type": "stream",
     "text": [
      "type     n  \n",
      "actor    1.0    6375\n",
      "         2.0    4377\n",
      "         3.0    5404\n",
      "         4.0    5400\n",
      "         5.0    5428\n",
      "actress  1.0    2813\n",
      "         2.0    4399\n",
      "         3.0    3015\n",
      "         4.0    2742\n",
      "         5.0    2443\n",
      "dtype: int64\n"
     ]
    }
   ],
   "source": [
    "a = cast_data[(cast_data['n']>=1.0)&(cast_data['n']<=5.0) ]\n",
    "b = a[(a['year']>=1950)&(a['year']<=1959)].groupby(['type','n']).size()\n",
    "print(b)"
   ]
  },
  {
   "cell_type": "code",
   "execution_count": 8,
   "id": "6af50a27",
   "metadata": {},
   "outputs": [],
   "source": [
    "# Use groupby() to determine how many roles are listed for each of the Pink Panther movies."
   ]
  },
  {
   "cell_type": "code",
   "execution_count": 9,
   "id": "ccdbe6ed",
   "metadata": {},
   "outputs": [
    {
     "name": "stdout",
     "output_type": "stream",
     "text": [
      "                               year  name  type  n\n",
      "title            character                        \n",
      "Long teng hu yue Pink Panther     1     1     1  0\n",
      "Xin tiao yi bai  Pink Panther     1     1     1  0\n"
     ]
    }
   ],
   "source": [
    "a  = cast_data[(cast_data['character'] == 'Pink Panther')].groupby(['title','character']).count()\n",
    "print (a)"
   ]
  },
  {
   "cell_type": "code",
   "execution_count": 10,
   "id": "9cfe9f4c",
   "metadata": {},
   "outputs": [],
   "source": [
    "# List, in order by year, each of the films in which Frank Oz has played more than 1 role."
   ]
  },
  {
   "cell_type": "code",
   "execution_count": 11,
   "id": "6ca055e4",
   "metadata": {},
   "outputs": [
    {
     "name": "stdout",
     "output_type": "stream",
     "text": [
      "                                                                  title  type  \\\n",
      "character                                          year name                    \n",
      "Animal                                             1979 Frank Oz      1     1   \n",
      "Swedish Chef (assistant)                           1979 Frank Oz      1     1   \n",
      "Sam the Eagle                                      1979 Frank Oz      1     1   \n",
      "Motorcycle Guy                                     1979 Frank Oz      1     1   \n",
      "Miss Piggy                                         1979 Frank Oz      1     1   \n",
      "Fozzie Bear                                        1979 Frank Oz      1     1   \n",
      "Doc Hopper's Men                                   1979 Frank Oz      1     1   \n",
      "Marvin Suggs                                       1979 Frank Oz      1     1   \n",
      "Yoda                                               1980 Frank Oz      1     1   \n",
      "Corrections Officer                                1980 Frank Oz      1     1   \n",
      "Swedish Chef                                       1981 Frank Oz      1     1   \n",
      "Gramps                                             1981 Frank Oz      1     1   \n",
      "Sam the Eagle                                      1981 Frank Oz      1     1   \n",
      "Miss Piggy                                         1981 Frank Oz      2     2   \n",
      "Mr. Collins                                        1981 Frank Oz      1     1   \n",
      "Fozzie Bear                                        1981 Frank Oz      1     1   \n",
      "Animal                                             1981 Frank Oz      1     1   \n",
      "Chamberlain (performer)                            1982 Frank Oz      1     1   \n",
      "Aughra, a Keeper Of Secrets (performer)            1982 Frank Oz      1     1   \n",
      "Yoda                                               1983 Frank Oz      1     1   \n",
      "Corrupt Cop                                        1983 Frank Oz      1     1   \n",
      "Miss Piggy                                         1984 Frank Oz      1     1   \n",
      "Animal                                             1984 Frank Oz      1     1   \n",
      "Sam the Eagle                                      1984 Frank Oz      1     1   \n",
      "Ocean Breeze Soap Board Member                     1984 Frank Oz      1     1   \n",
      "Cookie Monster                                     1984 Frank Oz      1     1   \n",
      "Bert                                               1984 Frank Oz      1     1   \n",
      "Fozzie                                             1984 Frank Oz      1     1   \n",
      "Bert                                               1985 Frank Oz      1     1   \n",
      "Grover                                             1985 Frank Oz      1     1   \n",
      "Test Monitor                                       1985 Frank Oz      1     1   \n",
      "Cookie Monster                                     1985 Frank Oz      1     1   \n",
      "The Wiseman                                        1986 Frank Oz      1     1   \n",
      "Sam the Eagle as Headmaster of Junior High Grad... 1992 Frank Oz      1     1   \n",
      "Fozzie Bear as Fozziewig                           1992 Frank Oz      1     1   \n",
      "Miss Piggy as Emily Cratchit                       1992 Frank Oz      1     1   \n",
      "Animal                                             1992 Frank Oz      1     1   \n",
      "Vegetable Salesman                                 1992 Frank Oz      1     1   \n",
      "Pathologist                                        1992 Frank Oz      1     1   \n",
      "Horse and Carriage Driver                          1992 Frank Oz      1     1   \n",
      "George the Janitor                                 1992 Frank Oz      1     1   \n",
      "Sam the Eagle                                      1996 Frank Oz      1     1   \n",
      "Miss Piggy                                         1996 Frank Oz      1     1   \n",
      "Animal                                             1996 Frank Oz      1     1   \n",
      "Fozzie Bear                                        1996 Frank Oz      1     1   \n",
      "Warden                                             1998 Frank Oz      1     1   \n",
      "Miss Piggy                                         1999 Frank Oz      1     1   \n",
      "Sam the Eagle                                      1999 Frank Oz      1     1   \n",
      "Grover                                             1999 Frank Oz      1     1   \n",
      "Fozzie Bear                                        1999 Frank Oz      1     1   \n",
      "Animal                                             1999 Frank Oz      1     1   \n",
      "Cookie Monster                                     1999 Frank Oz      1     1   \n",
      "Bert                                               1999 Frank Oz      1     1   \n",
      "Yoda                                               1999 Frank Oz      1     1   \n",
      "Fungus                                             2001 Frank Oz      1     1   \n",
      "Yoda                                               2002 Frank Oz      1     1   \n",
      "Robot                                              2005 Frank Oz      1     1   \n",
      "Yoda                                               2005 Frank Oz      1     1   \n",
      "Subconscious Guard Dave                            2015 Frank Oz      1     1   \n",
      "\n",
      "                                                                  n  \n",
      "character                                          year name         \n",
      "Animal                                             1979 Frank Oz  1  \n",
      "Swedish Chef (assistant)                           1979 Frank Oz  1  \n",
      "Sam the Eagle                                      1979 Frank Oz  1  \n",
      "Motorcycle Guy                                     1979 Frank Oz  1  \n",
      "Miss Piggy                                         1979 Frank Oz  1  \n",
      "Fozzie Bear                                        1979 Frank Oz  1  \n",
      "Doc Hopper's Men                                   1979 Frank Oz  1  \n",
      "Marvin Suggs                                       1979 Frank Oz  1  \n",
      "Yoda                                               1980 Frank Oz  1  \n",
      "Corrections Officer                                1980 Frank Oz  1  \n",
      "Swedish Chef                                       1981 Frank Oz  1  \n",
      "Gramps                                             1981 Frank Oz  1  \n",
      "Sam the Eagle                                      1981 Frank Oz  1  \n",
      "Miss Piggy                                         1981 Frank Oz  2  \n",
      "Mr. Collins                                        1981 Frank Oz  1  \n",
      "Fozzie Bear                                        1981 Frank Oz  1  \n",
      "Animal                                             1981 Frank Oz  1  \n",
      "Chamberlain (performer)                            1982 Frank Oz  1  \n",
      "Aughra, a Keeper Of Secrets (performer)            1982 Frank Oz  1  \n",
      "Yoda                                               1983 Frank Oz  1  \n",
      "Corrupt Cop                                        1983 Frank Oz  1  \n",
      "Miss Piggy                                         1984 Frank Oz  1  \n",
      "Animal                                             1984 Frank Oz  1  \n",
      "Sam the Eagle                                      1984 Frank Oz  1  \n",
      "Ocean Breeze Soap Board Member                     1984 Frank Oz  1  \n",
      "Cookie Monster                                     1984 Frank Oz  1  \n",
      "Bert                                               1984 Frank Oz  1  \n",
      "Fozzie                                             1984 Frank Oz  1  \n",
      "Bert                                               1985 Frank Oz  1  \n",
      "Grover                                             1985 Frank Oz  1  \n",
      "Test Monitor                                       1985 Frank Oz  1  \n",
      "Cookie Monster                                     1985 Frank Oz  1  \n",
      "The Wiseman                                        1986 Frank Oz  1  \n",
      "Sam the Eagle as Headmaster of Junior High Grad... 1992 Frank Oz  1  \n",
      "Fozzie Bear as Fozziewig                           1992 Frank Oz  1  \n",
      "Miss Piggy as Emily Cratchit                       1992 Frank Oz  1  \n",
      "Animal                                             1992 Frank Oz  1  \n",
      "Vegetable Salesman                                 1992 Frank Oz  1  \n",
      "Pathologist                                        1992 Frank Oz  1  \n",
      "Horse and Carriage Driver                          1992 Frank Oz  1  \n",
      "George the Janitor                                 1992 Frank Oz  1  \n",
      "Sam the Eagle                                      1996 Frank Oz  1  \n",
      "Miss Piggy                                         1996 Frank Oz  1  \n",
      "Animal                                             1996 Frank Oz  1  \n",
      "Fozzie Bear                                        1996 Frank Oz  1  \n",
      "Warden                                             1998 Frank Oz  1  \n",
      "Miss Piggy                                         1999 Frank Oz  1  \n",
      "Sam the Eagle                                      1999 Frank Oz  1  \n",
      "Grover                                             1999 Frank Oz  1  \n",
      "Fozzie Bear                                        1999 Frank Oz  1  \n",
      "Animal                                             1999 Frank Oz  1  \n",
      "Cookie Monster                                     1999 Frank Oz  1  \n",
      "Bert                                               1999 Frank Oz  1  \n",
      "Yoda                                               1999 Frank Oz  1  \n",
      "Fungus                                             2001 Frank Oz  1  \n",
      "Yoda                                               2002 Frank Oz  1  \n",
      "Robot                                              2005 Frank Oz  1  \n",
      "Yoda                                               2005 Frank Oz  1  \n",
      "Subconscious Guard Dave                            2015 Frank Oz  1  \n"
     ]
    }
   ],
   "source": [
    "a = cast_data[(cast_data['name'] == 'Frank Oz') & (cast_data['n'] >= 1.0)].groupby(['character', 'year','name']).count().sort_values('year')\n",
    "\n",
    "print (a)"
   ]
  },
  {
   "cell_type": "code",
   "execution_count": null,
   "id": "38156686",
   "metadata": {},
   "outputs": [],
   "source": []
  }
 ],
 "metadata": {
  "kernelspec": {
   "display_name": "Python 3 (ipykernel)",
   "language": "python",
   "name": "python3"
  },
  "language_info": {
   "codemirror_mode": {
    "name": "ipython",
    "version": 3
   },
   "file_extension": ".py",
   "mimetype": "text/x-python",
   "name": "python",
   "nbconvert_exporter": "python",
   "pygments_lexer": "ipython3",
   "version": "3.11.4"
  }
 },
 "nbformat": 4,
 "nbformat_minor": 5
}
